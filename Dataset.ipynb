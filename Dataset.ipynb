{
 "cells": [
  {
   "cell_type": "code",
   "execution_count": 195,
   "metadata": {},
   "outputs": [],
   "source": [
    "import pandas as pd\n",
    "datasets=[\"co2_intensity_of_economic_output_kg_co2_per_2011_ppp_of_gdp\",\"cumulative_co2_emissions_tonnes\",\"cervical_cancer_number_of_new_female_cases\"]\n",
    "\n",
    "for dataset in datasets:\n",
    "    df_processed=pd.DataFrame()\n",
    "    results_in_list=[]\n",
    "    values=[]\n",
    "    country=[]\n",
    "    years=[]\n",
    "    df=pd.read_csv(dataset+\".csv\")\n",
    "    for column in df:\n",
    "        years.append(column)\n",
    "        results_in_list.append(df[column].values.tolist())\n",
    "\n",
    "    for i in range(0,len(results_in_list[0])):\n",
    "        country_name=\"\"\n",
    "        for j in results_in_list:\n",
    "            if type(j[i]) is str:\n",
    "                country_name=j[i]\n",
    "            else:\n",
    "                country.append(country_name)\n",
    "                values.append(j[i])\n",
    "    years.remove('country')\n",
    "    years=years*len(results_in_list[0])\n",
    "    df_processed['Country']=country\n",
    "    df_processed['Year']=years\n",
    "    df_processed[dataset]=values\n",
    "    df_processed.to_csv(\"Processed_\"+dataset+\".csv\", index=False)"
   ]
  },
  {
   "cell_type": "code",
   "execution_count": 198,
   "metadata": {},
   "outputs": [],
   "source": []
  },
  {
   "cell_type": "code",
   "execution_count": null,
   "metadata": {},
   "outputs": [],
   "source": []
  }
 ],
 "metadata": {
  "kernelspec": {
   "display_name": "Python 3",
   "language": "python",
   "name": "python3"
  },
  "language_info": {
   "codemirror_mode": {
    "name": "ipython",
    "version": 3
   },
   "file_extension": ".py",
   "mimetype": "text/x-python",
   "name": "python",
   "nbconvert_exporter": "python",
   "pygments_lexer": "ipython3",
   "version": "3.7.3"
  }
 },
 "nbformat": 4,
 "nbformat_minor": 2
}
